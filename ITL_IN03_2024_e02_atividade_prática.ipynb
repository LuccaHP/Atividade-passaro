{
  "cells": [
    {
      "cell_type": "markdown",
      "metadata": {
        "id": "view-in-github",
        "colab_type": "text"
      },
      "source": [
        "<a href=\"https://colab.research.google.com/github/LuccaHP/Atividade-passaro/blob/main/ITL_IN03_2024_e02_atividade_pr%C3%A1tica.ipynb\" target=\"_parent\"><img src=\"https://colab.research.google.com/assets/colab-badge.svg\" alt=\"Open In Colab\"/></a>"
      ]
    },
    {
      "cell_type": "markdown",
      "source": [
        "# Atividade prática"
      ],
      "metadata": {
        "id": "aCSydJrqweHB"
      }
    },
    {
      "cell_type": "markdown",
      "source": [
        "Você deve realizar a tarefa a seguir em um caderno `ipynb`."
      ],
      "metadata": {
        "id": "6WzB-LBMyP3A"
      }
    },
    {
      "cell_type": "markdown",
      "source": [
        "## Descrição"
      ],
      "metadata": {
        "id": "M95NYrcqyMwb"
      }
    },
    {
      "cell_type": "markdown",
      "source": [
        "1. Visualizar primeiras linhas do `DataFrame`;\n",
        "\n",
        "2. Verificar os tipos de dados das colunas;\n",
        "\n",
        "3. Obter as estatísticas descritivas para entender a distribuição dos dados;\n",
        "\n",
        "4. Identificar e contar os valores ausentes;\n",
        "\n",
        "5. Tratar de valores ausentes;\n",
        "\n",
        "6. Identificar os outliers;\n",
        "\n",
        "7. Analisar se os outliers necessitam ser removidos. Em caso positivo, removê-los;\n",
        "\n",
        "8. Normalizar as colunas numéricas;\n",
        "\n",
        "9. Codificar as variáveis categóricas com o One-Hot Encoding;\n",
        "\n",
        "10. Criar de uma matriz de correlação para entender as relações entre variáveis numéricas;\n",
        "\n",
        "11. Criar um gráfico de dispersão para visualizar relações entre duas variáveis;\n",
        "\n",
        "12. Exportar o DataFrame preparado como um novo arquivo CSV;"
      ],
      "metadata": {
        "id": "mBpWUmhfyEJa"
      }
    },
    {
      "cell_type": "markdown",
      "source": [
        "## Código"
      ],
      "metadata": {
        "id": "q7HOLaX6yLOK"
      }
    },
    {
      "cell_type": "markdown",
      "source": [
        "Importa as bibliotecas necessárias."
      ],
      "metadata": {
        "id": "9lrGVW77yt08"
      }
    },
    {
      "cell_type": "code",
      "execution_count": null,
      "metadata": {
        "id": "KO0cstb1iOL4"
      },
      "outputs": [],
      "source": [
        "import pandas as pd\n",
        "import gdown"
      ]
    },
    {
      "cell_type": "markdown",
      "source": [
        "Baixa o dataset."
      ],
      "metadata": {
        "id": "_oH1TIqaj2mL"
      }
    },
    {
      "cell_type": "code",
      "source": [
        "# `file_id`: obtido do Google Drive\n",
        "# https://drive.google.com/file/d/11Rx5kTKIToujJNTm4N-4LwlAdiX95rkb/view?usp=sharing\n",
        "file_id = '11Rx5kTKIToujJNTm4N-4LwlAdiX95rkb'\n",
        "\n",
        "url = f'https://drive.google.com/uc?id={file_id}'\n",
        "nome_do_arquivo_no_colab = 'camponeonato_dataset.csv'\n",
        "\n",
        "# Faz o download do dataset\n",
        "gdown.download(url, nome_do_arquivo_no_colab, quiet=False)"
      ],
      "metadata": {
        "colab": {
          "base_uri": "https://localhost:8080/",
          "height": 104
        },
        "id": "FiLHSOxNi_39",
        "outputId": "c2a69b2a-ee73-4acc-9941-0cf9ec7343f2"
      },
      "execution_count": null,
      "outputs": [
        {
          "output_type": "stream",
          "name": "stderr",
          "text": [
            "Downloading...\n",
            "From: https://drive.google.com/uc?id=11Rx5kTKIToujJNTm4N-4LwlAdiX95rkb\n",
            "To: /content/camponeonato_dataset.csv\n",
            "100%|██████████| 845k/845k [00:00<00:00, 80.8MB/s]\n"
          ]
        },
        {
          "output_type": "execute_result",
          "data": {
            "text/plain": [
              "'camponeonato_dataset.csv'"
            ],
            "application/vnd.google.colaboratory.intrinsic+json": {
              "type": "string"
            }
          },
          "metadata": {},
          "execution_count": 6
        }
      ]
    },
    {
      "cell_type": "markdown",
      "source": [
        "Faz a leitura do dataset com o Pandas."
      ],
      "metadata": {
        "id": "YQW9zuyHj55Z"
      }
    },
    {
      "cell_type": "code",
      "execution_count": null,
      "metadata": {
        "id": "HviRjcLniOL6"
      },
      "outputs": [],
      "source": [
        "df = pd.read_csv(f\"/content/{nome_do_arquivo_no_colab}\")"
      ]
    }
  ],
  "metadata": {
    "kernelspec": {
      "display_name": "Python 3",
      "language": "python",
      "name": "python3"
    },
    "language_info": {
      "codemirror_mode": {
        "name": "ipython",
        "version": 3
      },
      "file_extension": ".py",
      "mimetype": "text/x-python",
      "name": "python",
      "nbconvert_exporter": "python",
      "pygments_lexer": "ipython3",
      "version": "3.12.1"
    },
    "colab": {
      "provenance": [],
      "include_colab_link": true
    }
  },
  "nbformat": 4,
  "nbformat_minor": 0
}